{
 "cells": [
  {
   "cell_type": "code",
   "execution_count": null,
   "metadata": {},
   "outputs": [],
   "source": [
    "class KNN_created:\n",
    "    def __init__(self, k):\n",
    "        self.k = k\n",
    "        self.training_data = []\n",
    "        self.training_labels = []\n",
    "    \n",
    "    def fit(self, training_data, training_labels):\n",
    "        self.training_data = training_data\n",
    "        self.training_labels = training_labels\n",
    "    \n",
    "    def predict(self, test_data):\n",
    "        predictions = []\n",
    "        for row in test_data:\n",
    "            label = self.closest(row)\n",
    "            predictions.append(label)\n",
    "        return predictions\n",
    "    \n",
    "    def closest(self, new_data):#若無相同的距離則可順利回傳最終的標籤\n",
    "        distance=[]\n",
    "        for i in range(len(self.training_data)):\n",
    "            distance.append(self.calculate_distance(new_data, self.training_data[i]))\n",
    "        index = np.argsort(distance)[:self.k]\n",
    "        \n",
    "        label_list = []\n",
    "        for id in index:\n",
    "            label_list.append(self.training_labels[id])\n",
    "           \n",
    "        return min(label_list)\n",
    "    \n",
    "    def calculate_distance(self, a, b):#計算a,b之間的距離\n",
    "        return np.sqrt(np.sum(np.square(a - b)))\n",
    "    \n",
    "    def score(self, test_data, test_labels):#計算準確率\n",
    "        predictions = self.predict(test_data)\n",
    "        correct = 0\n",
    "        for i in range(len(test_labels)):\n",
    "            if predictions[i] == test_labels[i]:\n",
    "                correct += 1\n",
    "        return correct / len(test_labels)\n",
    "        "
   ]
  }
 ],
 "metadata": {
  "kernelspec": {
   "display_name": "base",
   "language": "python",
   "name": "python3"
  },
  "language_info": {
   "codemirror_mode": {
    "name": "ipython",
    "version": 3
   },
   "file_extension": ".py",
   "mimetype": "text/x-python",
   "name": "python",
   "nbconvert_exporter": "python",
   "pygments_lexer": "ipython3",
   "version": "3.9.17"
  }
 },
 "nbformat": 4,
 "nbformat_minor": 2
}
